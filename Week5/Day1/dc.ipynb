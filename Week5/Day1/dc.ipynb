{
 "cells": [
  {
   "cell_type": "code",
   "execution_count": 1,
   "id": "26ceb73f-c1a8-4b2f-9304-c9c6a00e4b60",
   "metadata": {},
   "outputs": [],
   "source": [
    "import numpy as np"
   ]
  },
  {
   "cell_type": "code",
   "execution_count": 2,
   "id": "653057e5-b2e1-484b-9e53-07df71760e18",
   "metadata": {},
   "outputs": [],
   "source": [
    "data = np.array(np.random.randint(1, 100, size=25)).reshape(5,5)"
   ]
  },
  {
   "cell_type": "code",
   "execution_count": 3,
   "id": "b9df1440-ceae-40c7-814f-9e5862298073",
   "metadata": {},
   "outputs": [
    {
     "name": "stdout",
     "output_type": "stream",
     "text": [
      "[[76 30 20 53  1]\n",
      " [10 23 93 88 94]\n",
      " [28 30 64 19 14]\n",
      " [74 35 25 59 69]\n",
      " [72 82 68 82 76]]\n"
     ]
    }
   ],
   "source": [
    "print(data)"
   ]
  },
  {
   "cell_type": "markdown",
   "id": "2583b1bb-9836-4281-9247-b86a4ccea1c2",
   "metadata": {},
   "source": [
    "#### Matrix manipulation - Swap the second and fourth rows of the data matrix."
   ]
  },
  {
   "cell_type": "code",
   "execution_count": 4,
   "id": "b7559006-9b63-41be-967c-964f13770495",
   "metadata": {},
   "outputs": [],
   "source": [
    "data[[1, 3]] = data[[3, 1]]"
   ]
  },
  {
   "cell_type": "code",
   "execution_count": 5,
   "id": "f627e749-fa44-4565-ba53-f4a0a353f25f",
   "metadata": {},
   "outputs": [
    {
     "name": "stdout",
     "output_type": "stream",
     "text": [
      "[[76 30 20 53  1]\n",
      " [74 35 25 59 69]\n",
      " [28 30 64 19 14]\n",
      " [10 23 93 88 94]\n",
      " [72 82 68 82 76]]\n"
     ]
    }
   ],
   "source": [
    "print(data)"
   ]
  },
  {
   "cell_type": "markdown",
   "id": "e0422264-7211-4eb4-8d33-2c04790b10af",
   "metadata": {},
   "source": [
    "#### Normalization - Normalize all the elements in the data matrix such that they are scaled to range between 0 and 1."
   ]
  },
  {
   "cell_type": "code",
   "execution_count": 6,
   "id": "bbb3fef6-06f5-4dd8-a662-bbdcb2728a5e",
   "metadata": {},
   "outputs": [
    {
     "name": "stdout",
     "output_type": "stream",
     "text": [
      "[[0.76 0.3  0.2  0.53 0.01]\n",
      " [0.74 0.35 0.25 0.59 0.69]\n",
      " [0.28 0.3  0.64 0.19 0.14]\n",
      " [0.1  0.23 0.93 0.88 0.94]\n",
      " [0.72 0.82 0.68 0.82 0.76]]\n"
     ]
    }
   ],
   "source": [
    "print(data / (100-0))"
   ]
  },
  {
   "cell_type": "markdown",
   "id": "a96eda82-2b3f-4048-ab02-680f9b1fa401",
   "metadata": {},
   "source": [
    "#### Z-score normalization - Standardize the data matrix using Z-score normalization. That is, all the elements should be scaled to have a mean* of 0 and a standard deviation of 1. Z-score is calculated as (X - mean) / std."
   ]
  },
  {
   "cell_type": "code",
   "execution_count": 7,
   "id": "3dd1d603-7765-4c17-99b2-40ecc7043a26",
   "metadata": {},
   "outputs": [
    {
     "name": "stdout",
     "output_type": "stream",
     "text": [
      "0.00000000000000\n",
      "[[ 0.246 -0.214 -0.314  0.016 -0.504]\n",
      " [ 0.226 -0.164 -0.264  0.076  0.176]\n",
      " [-0.234 -0.214  0.126 -0.324 -0.374]\n",
      " [-0.414 -0.284  0.416  0.366  0.426]\n",
      " [ 0.206  0.306  0.166  0.306  0.246]]\n"
     ]
    }
   ],
   "source": [
    "the_mean = np.mean(data)\n",
    "rescaled = data - the_mean\n",
    "print(f'{np.average(rescaled):.14f}')\n",
    "rescaled = rescaled / 100\n",
    "print(rescaled)"
   ]
  },
  {
   "cell_type": "markdown",
   "id": "15d52562-c27f-45eb-8d52-6c8c382f1e81",
   "metadata": {},
   "source": [
    "#### Array splitting - Reshape the data matrix into a vector (Hint: use np.ravel) and split this array into five equal-sized sub-arrays."
   ]
  },
  {
   "cell_type": "code",
   "execution_count": 8,
   "id": "a52b3fe5-ac99-4903-99af-1216b87e3816",
   "metadata": {},
   "outputs": [],
   "source": [
    "raveled = np.ravel(data)"
   ]
  },
  {
   "cell_type": "code",
   "execution_count": 9,
   "id": "e1afdd75-1c24-427a-968e-d2a8c474aa9d",
   "metadata": {},
   "outputs": [
    {
     "name": "stdout",
     "output_type": "stream",
     "text": [
      "[array([76, 30, 20, 53,  1]), array([74, 35, 25, 59, 69]), array([28, 30, 64, 19, 14]), array([10, 23, 93, 88, 94]), array([72, 82, 68, 82, 76])]\n"
     ]
    }
   ],
   "source": [
    "print(np.split(raveled,5))"
   ]
  },
  {
   "cell_type": "markdown",
   "id": "8fcfee9f-eb44-4f9f-8701-fc3d00ad91a0",
   "metadata": {},
   "source": [
    "#### Dot product - Create two vectors of size 5 with any values. Compute the dot product of the two vectors*"
   ]
  },
  {
   "cell_type": "code",
   "execution_count": 10,
   "id": "cc372d34-f97d-4f84-98da-aa032896bff7",
   "metadata": {},
   "outputs": [],
   "source": [
    "vector1 = np.array(np.random.randint(1, 10, size=5))\n",
    "vector2 = np.array(np.random.randint(1, 10, size=5))"
   ]
  },
  {
   "cell_type": "code",
   "execution_count": 11,
   "id": "63293c90-d85e-434e-936f-c15bf7bdfac0",
   "metadata": {},
   "outputs": [
    {
     "name": "stdout",
     "output_type": "stream",
     "text": [
      "77\n"
     ]
    }
   ],
   "source": [
    "print(np.dot(vector1, vector2))"
   ]
  },
  {
   "cell_type": "code",
   "execution_count": 12,
   "id": "08d019aa-27bb-495c-babe-cab9d819bc2c",
   "metadata": {},
   "outputs": [],
   "source": [
    "data2 = np.array(np.random.randint(1, 100, size=9)).reshape(3,3)"
   ]
  },
  {
   "cell_type": "code",
   "execution_count": 13,
   "id": "b0675974-955e-413a-9774-f32344312525",
   "metadata": {},
   "outputs": [
    {
     "name": "stdout",
     "output_type": "stream",
     "text": [
      "[[32 25 79]\n",
      " [92 89 54]\n",
      " [86 86 44]]\n"
     ]
    }
   ],
   "source": [
    "print(data2)"
   ]
  },
  {
   "cell_type": "code",
   "execution_count": 14,
   "id": "812c7ab4-c506-4644-bcc8-523271878ba7",
   "metadata": {},
   "outputs": [
    {
     "name": "stdout",
     "output_type": "stream",
     "text": [
      "[[6912 6290 8504]\n",
      " [7738 7115 8836]\n",
      " [9160 8874 6648]]\n"
     ]
    }
   ],
   "source": [
    "print(np.dot(data[:3,:3], data2))"
   ]
  },
  {
   "cell_type": "markdown",
   "id": "cb74b4e1-cfe5-465d-9e46-60cfd1c85a72",
   "metadata": {},
   "source": [
    "#### Inverse of a matrix - Create a 3x3 identity matrix*, multiply it with 2 and compute its inverse."
   ]
  },
  {
   "cell_type": "code",
   "execution_count": 15,
   "id": "b3933c84-ee46-4309-ba59-3628f63bf846",
   "metadata": {},
   "outputs": [],
   "source": [
    "iden = np.eye(3)"
   ]
  },
  {
   "cell_type": "code",
   "execution_count": 16,
   "id": "796bbcc9-63f6-47b6-8194-3e99119f02c7",
   "metadata": {},
   "outputs": [],
   "source": [
    "iden = iden * 2"
   ]
  },
  {
   "cell_type": "code",
   "execution_count": 17,
   "id": "bd8bace8-fac3-492f-a4d3-b22d1eb25726",
   "metadata": {},
   "outputs": [
    {
     "name": "stdout",
     "output_type": "stream",
     "text": [
      "[[0.5 0.  0. ]\n",
      " [0.  0.5 0. ]\n",
      " [0.  0.  0.5]]\n"
     ]
    }
   ],
   "source": [
    "print(np.linalg.inv(iden))"
   ]
  },
  {
   "cell_type": "markdown",
   "id": "4be92d8f-01ad-4662-90e1-38bfe1e9359f",
   "metadata": {},
   "source": [
    "#### Eigenvalues and eigenvectors - For the first 3x3 part of the data matrix, compute the eigenvalues and eigenvectors*."
   ]
  },
  {
   "cell_type": "code",
   "execution_count": 18,
   "id": "5a3122d7-77c5-4496-b492-1a462a69ce21",
   "metadata": {},
   "outputs": [
    {
     "name": "stdout",
     "output_type": "stream",
     "text": [
      "EigResult(eigenvalues=array([126.94428874,  45.09289614,   2.96281512]), eigenvectors=array([[-0.57380587, -0.34044749,  0.28595479],\n",
      "       [-0.61031506, -0.25298538, -0.90539612],\n",
      "       [-0.546134  ,  0.90559036,  0.31382754]]))\n"
     ]
    }
   ],
   "source": [
    "print(np.linalg.eig(data[:3,:3]))"
   ]
  },
  {
   "cell_type": "markdown",
   "id": "c2319d05-97f9-4c92-b80c-7d60a503698e",
   "metadata": {},
   "source": [
    "#### Find missing values - Replace random 5 elements in the data matrix with np.nan. Find the indices of the missing values."
   ]
  },
  {
   "cell_type": "code",
   "execution_count": 37,
   "id": "a78f4bbd-f979-4ff3-bc30-a0aa23eacdb0",
   "metadata": {},
   "outputs": [
    {
     "name": "stdout",
     "output_type": "stream",
     "text": [
      "[[76. 30. 20. 53.  1.]\n",
      " [74. 35. 25. 59. 69.]\n",
      " [28. 30. 64. 19. 14.]\n",
      " [10. 23. 93. 88. 94.]\n",
      " [72. 82. 68. 82. 76.]]\n"
     ]
    }
   ],
   "source": [
    "np.dtype(data[0][0])\n",
    "data_float = data.astype('float32')\n",
    "print(data_float)"
   ]
  },
  {
   "cell_type": "code",
   "execution_count": 38,
   "id": "9250207b-22af-4b99-9e03-7ca48d0d9740",
   "metadata": {},
   "outputs": [],
   "source": [
    "data_float = data_float.ravel() "
   ]
  },
  {
   "cell_type": "code",
   "execution_count": 39,
   "id": "949f65b7-9767-4b80-a08f-408437594a0e",
   "metadata": {},
   "outputs": [
    {
     "data": {
      "text/plain": [
       "array([10, 18,  4,  9,  2])"
      ]
     },
     "execution_count": 39,
     "metadata": {},
     "output_type": "execute_result"
    }
   ],
   "source": [
    "np.random.randint(low = 0, high = 25, size=(5))"
   ]
  },
  {
   "cell_type": "code",
   "execution_count": 40,
   "id": "3212438f-1bca-4bad-a3af-8ea60d597f88",
   "metadata": {},
   "outputs": [],
   "source": [
    "rand_idx = np.random.randint(low = 0, high = 25, size=(5))"
   ]
  },
  {
   "cell_type": "code",
   "execution_count": 41,
   "id": "46426a41-efff-4cd8-bec1-fd77ade5fe29",
   "metadata": {},
   "outputs": [],
   "source": [
    "data_float[rand_idx] = np.nan"
   ]
  },
  {
   "cell_type": "code",
   "execution_count": 47,
   "id": "77d9702d-38f5-4e39-bb5a-e63762861a57",
   "metadata": {},
   "outputs": [],
   "source": [
    "data_float = data_float.reshape(5,5)"
   ]
  },
  {
   "cell_type": "code",
   "execution_count": 48,
   "id": "8c4aa6cf-b6b9-4315-a01e-e4a1c06f08bd",
   "metadata": {},
   "outputs": [
    {
     "name": "stdout",
     "output_type": "stream",
     "text": [
      "[[76.  30.  20.  53.   1. ]\n",
      " [74.  53.6 25.  59.  69. ]\n",
      " [28.  30.  64.  19.  53.6]\n",
      " [53.6 23.  93.  88.  94. ]\n",
      " [53.6 53.6 68.  82.  76. ]]\n"
     ]
    }
   ],
   "source": [
    "print(data_float)"
   ]
  },
  {
   "cell_type": "code",
   "execution_count": 43,
   "id": "194f8446-9d9b-45f0-b400-633d4ef10fa9",
   "metadata": {},
   "outputs": [
    {
     "name": "stdout",
     "output_type": "stream",
     "text": [
      "(array([ 6, 14, 15, 20, 21], dtype=int64),)\n"
     ]
    }
   ],
   "source": [
    "print(np.where(np.isnan(data_float )))"
   ]
  },
  {
   "cell_type": "markdown",
   "id": "ac908db2-6d13-4bf0-9c38-19d30adb982e",
   "metadata": {},
   "source": [
    "#### Replace missing values - Replace the missing values in the data matrix with the mean of the matrix (ignoring the missing values while computing the mean)."
   ]
  },
  {
   "cell_type": "code",
   "execution_count": 44,
   "id": "0e5909e2-dd7b-49f5-b3b5-21a8d15755c8",
   "metadata": {},
   "outputs": [],
   "source": [
    "mean_data_float = np.nanmean(data_float)"
   ]
  },
  {
   "cell_type": "code",
   "execution_count": 45,
   "id": "924738ac-8110-453e-ad72-b72ad401a449",
   "metadata": {},
   "outputs": [],
   "source": [
    "data_float[np.isnan(data_float)] = mean_data_float"
   ]
  },
  {
   "cell_type": "code",
   "execution_count": 49,
   "id": "195b0907-940e-468f-bb1d-67035f548564",
   "metadata": {},
   "outputs": [
    {
     "name": "stdout",
     "output_type": "stream",
     "text": [
      "[[76.  30.  20.  53.   1. ]\n",
      " [74.  53.6 25.  59.  69. ]\n",
      " [28.  30.  64.  19.  53.6]\n",
      " [53.6 23.  93.  88.  94. ]\n",
      " [53.6 53.6 68.  82.  76. ]]\n"
     ]
    }
   ],
   "source": [
    "print(data_float)"
   ]
  },
  {
   "cell_type": "code",
   "execution_count": null,
   "id": "494a0c01-625c-440b-a6a5-33b65d4525c5",
   "metadata": {},
   "outputs": [],
   "source": []
  }
 ],
 "metadata": {
  "kernelspec": {
   "display_name": "Python 3 (ipykernel)",
   "language": "python",
   "name": "python3"
  },
  "language_info": {
   "codemirror_mode": {
    "name": "ipython",
    "version": 3
   },
   "file_extension": ".py",
   "mimetype": "text/x-python",
   "name": "python",
   "nbconvert_exporter": "python",
   "pygments_lexer": "ipython3",
   "version": "3.11.4"
  }
 },
 "nbformat": 4,
 "nbformat_minor": 5
}
