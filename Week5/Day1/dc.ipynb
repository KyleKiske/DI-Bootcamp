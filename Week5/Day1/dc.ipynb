{
 "cells": [
  {
   "cell_type": "code",
   "execution_count": 13,
   "id": "26ceb73f-c1a8-4b2f-9304-c9c6a00e4b60",
   "metadata": {},
   "outputs": [],
   "source": [
    "import numpy as np"
   ]
  },
  {
   "cell_type": "code",
   "execution_count": 15,
   "id": "653057e5-b2e1-484b-9e53-07df71760e18",
   "metadata": {},
   "outputs": [],
   "source": [
    "data = np.array(np.random.randint(1, 100, size=25)).reshape(5,5)"
   ]
  },
  {
   "cell_type": "code",
   "execution_count": 16,
   "id": "b9df1440-ceae-40c7-814f-9e5862298073",
   "metadata": {},
   "outputs": [
    {
     "name": "stdout",
     "output_type": "stream",
     "text": [
      "[[36 42 27 24 31]\n",
      " [93 62 23 68 85]\n",
      " [33 51 41 21 97]\n",
      " [13 38 48 17 92]\n",
      " [83  3 85 40 25]]\n"
     ]
    }
   ],
   "source": [
    "print(data)"
   ]
  },
  {
   "cell_type": "markdown",
   "id": "2583b1bb-9836-4281-9247-b86a4ccea1c2",
   "metadata": {},
   "source": [
    "#### Matrix manipulation - Swap the second and fourth rows of the data matrix."
   ]
  },
  {
   "cell_type": "code",
   "execution_count": 17,
   "id": "b7559006-9b63-41be-967c-964f13770495",
   "metadata": {},
   "outputs": [],
   "source": [
    "data[[1, 3]] = data[[3, 1]]"
   ]
  },
  {
   "cell_type": "code",
   "execution_count": 18,
   "id": "f627e749-fa44-4565-ba53-f4a0a353f25f",
   "metadata": {},
   "outputs": [
    {
     "name": "stdout",
     "output_type": "stream",
     "text": [
      "[[36 42 27 24 31]\n",
      " [13 38 48 17 92]\n",
      " [33 51 41 21 97]\n",
      " [93 62 23 68 85]\n",
      " [83  3 85 40 25]]\n"
     ]
    }
   ],
   "source": [
    "print(data)"
   ]
  },
  {
   "cell_type": "markdown",
   "id": "e0422264-7211-4eb4-8d33-2c04790b10af",
   "metadata": {},
   "source": [
    "#### Normalization - Normalize all the elements in the data matrix such that they are scaled to range between 0 and 1."
   ]
  },
  {
   "cell_type": "code",
   "execution_count": 19,
   "id": "bbb3fef6-06f5-4dd8-a662-bbdcb2728a5e",
   "metadata": {},
   "outputs": [
    {
     "name": "stdout",
     "output_type": "stream",
     "text": [
      "[[0.36 0.42 0.27 0.24 0.31]\n",
      " [0.13 0.38 0.48 0.17 0.92]\n",
      " [0.33 0.51 0.41 0.21 0.97]\n",
      " [0.93 0.62 0.23 0.68 0.85]\n",
      " [0.83 0.03 0.85 0.4  0.25]]\n"
     ]
    }
   ],
   "source": [
    "print(data / (100-0))"
   ]
  },
  {
   "cell_type": "markdown",
   "id": "a96eda82-2b3f-4048-ab02-680f9b1fa401",
   "metadata": {},
   "source": [
    "#### Z-score normalization - Standardize the data matrix using Z-score normalization. That is, all the elements should be scaled to have a mean* of 0 and a standard deviation of 1. Z-score is calculated as (X - mean) / std."
   ]
  },
  {
   "cell_type": "code",
   "execution_count": 30,
   "id": "3dd1d603-7765-4c17-99b2-40ecc7043a26",
   "metadata": {},
   "outputs": [
    {
     "name": "stdout",
     "output_type": "stream",
     "text": [
      "0.00000000000000\n",
      "[[-0.1112 -0.0512 -0.2012 -0.2312 -0.1612]\n",
      " [-0.3412 -0.0912  0.0088 -0.3012  0.4488]\n",
      " [-0.1412  0.0388 -0.0612 -0.2612  0.4988]\n",
      " [ 0.4588  0.1488 -0.2412  0.2088  0.3788]\n",
      " [ 0.3588 -0.4412  0.3788 -0.0712 -0.2212]]\n"
     ]
    }
   ],
   "source": [
    "the_mean = np.mean(data)\n",
    "rescaled = data - the_mean\n",
    "print(f'{np.average(rescaled):.14f}')\n",
    "rescaled = rescaled / 100\n",
    "print(rescaled)"
   ]
  },
  {
   "cell_type": "markdown",
   "id": "15d52562-c27f-45eb-8d52-6c8c382f1e81",
   "metadata": {},
   "source": [
    "#### Array splitting - Reshape the data matrix into a vector (Hint: use np.ravel) and split this array into five equal-sized sub-arrays."
   ]
  },
  {
   "cell_type": "code",
   "execution_count": 31,
   "id": "a52b3fe5-ac99-4903-99af-1216b87e3816",
   "metadata": {},
   "outputs": [],
   "source": [
    "raveled = np.ravel(data)"
   ]
  },
  {
   "cell_type": "code",
   "execution_count": 33,
   "id": "e1afdd75-1c24-427a-968e-d2a8c474aa9d",
   "metadata": {},
   "outputs": [
    {
     "name": "stdout",
     "output_type": "stream",
     "text": [
      "[array([36, 42, 27, 24, 31]), array([13, 38, 48, 17, 92]), array([33, 51, 41, 21, 97]), array([93, 62, 23, 68, 85]), array([83,  3, 85, 40, 25])]\n"
     ]
    }
   ],
   "source": [
    "print(np.split(raveled,5))"
   ]
  },
  {
   "cell_type": "markdown",
   "id": "8fcfee9f-eb44-4f9f-8701-fc3d00ad91a0",
   "metadata": {},
   "source": [
    "#### Dot product - Create two vectors of size 5 with any values. Compute the dot product of the two vectors*"
   ]
  },
  {
   "cell_type": "code",
   "execution_count": 38,
   "id": "cc372d34-f97d-4f84-98da-aa032896bff7",
   "metadata": {},
   "outputs": [],
   "source": [
    "vector1 = np.array(np.random.randint(1, 10, size=5))\n",
    "vector2 = np.array(np.random.randint(1, 10, size=5))"
   ]
  },
  {
   "cell_type": "code",
   "execution_count": 39,
   "id": "63293c90-d85e-434e-936f-c15bf7bdfac0",
   "metadata": {},
   "outputs": [
    {
     "name": "stdout",
     "output_type": "stream",
     "text": [
      "223\n"
     ]
    }
   ],
   "source": [
    "print(np.dot(vector1, vector2))"
   ]
  },
  {
   "cell_type": "code",
   "execution_count": 40,
   "id": "08d019aa-27bb-495c-babe-cab9d819bc2c",
   "metadata": {},
   "outputs": [],
   "source": [
    "data2 = np.array(np.random.randint(1, 100, size=9)).reshape(3,3)"
   ]
  },
  {
   "cell_type": "code",
   "execution_count": 41,
   "id": "b0675974-955e-413a-9774-f32344312525",
   "metadata": {},
   "outputs": [
    {
     "name": "stdout",
     "output_type": "stream",
     "text": [
      "[[34 96 69]\n",
      " [46 27 55]\n",
      " [50 50 62]]\n"
     ]
    }
   ],
   "source": [
    "print(data2)"
   ]
  },
  {
   "cell_type": "code",
   "execution_count": 50,
   "id": "812c7ab4-c506-4644-bcc8-523271878ba7",
   "metadata": {},
   "outputs": [
    {
     "name": "stdout",
     "output_type": "stream",
     "text": [
      "[[4506 5940 6468]\n",
      " [4590 4674 5963]\n",
      " [5518 6595 7624]]\n"
     ]
    }
   ],
   "source": [
    "print(np.dot(data[:3,:3], data2))"
   ]
  },
  {
   "cell_type": "markdown",
   "id": "cb74b4e1-cfe5-465d-9e46-60cfd1c85a72",
   "metadata": {},
   "source": [
    "#### Inverse of a matrix - Create a 3x3 identity matrix*, multiply it with 2 and compute its inverse."
   ]
  },
  {
   "cell_type": "code",
   "execution_count": 51,
   "id": "b3933c84-ee46-4309-ba59-3628f63bf846",
   "metadata": {},
   "outputs": [],
   "source": [
    "iden = np.eye(3)"
   ]
  },
  {
   "cell_type": "code",
   "execution_count": 53,
   "id": "796bbcc9-63f6-47b6-8194-3e99119f02c7",
   "metadata": {},
   "outputs": [],
   "source": [
    "iden = iden * 2"
   ]
  },
  {
   "cell_type": "code",
   "execution_count": 54,
   "id": "bd8bace8-fac3-492f-a4d3-b22d1eb25726",
   "metadata": {},
   "outputs": [
    {
     "name": "stdout",
     "output_type": "stream",
     "text": [
      "[[0.5 0.  0. ]\n",
      " [0.  0.5 0. ]\n",
      " [0.  0.  0.5]]\n"
     ]
    }
   ],
   "source": [
    "print(np.linalg.inv(iden))"
   ]
  },
  {
   "cell_type": "markdown",
   "id": "4be92d8f-01ad-4662-90e1-38bfe1e9359f",
   "metadata": {},
   "source": [
    "#### Eigenvalues and eigenvectors - For the first 3x3 part of the data matrix, compute the eigenvalues and eigenvectors*."
   ]
  },
  {
   "cell_type": "code",
   "execution_count": 55,
   "id": "5a3122d7-77c5-4496-b492-1a462a69ce21",
   "metadata": {},
   "outputs": [
    {
     "name": "stdout",
     "output_type": "stream",
     "text": [
      "EigResult(eigenvalues=array([109.98045653,   8.94021777,  -3.92067431]), eigenvectors=array([[-0.54009892, -0.78311006,  0.41665912],\n",
      "       [-0.53226775,  0.60280549, -0.73760983],\n",
      "       [-0.65190812, -0.15285345,  0.53134444]]))\n"
     ]
    }
   ],
   "source": [
    "print(np.linalg.eig(data[:3,:3]))"
   ]
  },
  {
   "cell_type": "markdown",
   "id": "c2319d05-97f9-4c92-b80c-7d60a503698e",
   "metadata": {},
   "source": [
    "#### Find missing values - Replace random 5 elements in the data matrix with np.nan. Find the indices of the missing values."
   ]
  },
  {
   "cell_type": "code",
   "execution_count": 64,
   "id": "9faba29a-9184-4cc5-b33d-b96198a4c6fe",
   "metadata": {},
   "outputs": [
    {
     "name": "stdout",
     "output_type": "stream",
     "text": [
      "[[36. 42. 27. 24. 31.]\n",
      " [13. 38. 48. 17. 92.]\n",
      " [33. 51. 41. 21. 97.]\n",
      " [93. 62. 23. 68. 85.]\n",
      " [83.  3. 85. 40. 25.]]\n"
     ]
    }
   ],
   "source": [
    "np.dtype(data[0][0])\n",
    "data_float = data.astype('float32')\n",
    "print(data_float)"
   ]
  },
  {
   "cell_type": "code",
   "execution_count": 67,
   "id": "949f65b7-9767-4b80-a08f-408437594a0e",
   "metadata": {},
   "outputs": [],
   "source": [
    "data_float[0][1] = np.nan\n",
    "data_float[2][1] = np.nan\n",
    "data_float[3][3] = np.nan\n",
    "data_float[1][4] = np.nan\n",
    "data_float[4][0] = np.nan"
   ]
  },
  {
   "cell_type": "code",
   "execution_count": 68,
   "id": "46426a41-efff-4cd8-bec1-fd77ade5fe29",
   "metadata": {},
   "outputs": [
    {
     "name": "stdout",
     "output_type": "stream",
     "text": [
      "[[36. nan 27. 24. 31.]\n",
      " [13. 38. 48. 17. nan]\n",
      " [33. nan 41. 21. 97.]\n",
      " [93. 62. 23. nan 85.]\n",
      " [nan  3. 85. 40. 25.]]\n"
     ]
    }
   ],
   "source": [
    "print(data_float)"
   ]
  },
  {
   "cell_type": "code",
   "execution_count": 77,
   "id": "194f8446-9d9b-45f0-b400-633d4ef10fa9",
   "metadata": {},
   "outputs": [
    {
     "name": "stdout",
     "output_type": "stream",
     "text": [
      "(array([0, 1, 2, 3, 4], dtype=int64), array([1, 4, 1, 3, 0], dtype=int64))\n"
     ]
    }
   ],
   "source": [
    "print(np.where(np.isnan(data_float )))"
   ]
  },
  {
   "cell_type": "markdown",
   "id": "ac908db2-6d13-4bf0-9c38-19d30adb982e",
   "metadata": {},
   "source": [
    "#### Replace missing values - Replace the missing values in the data matrix with the mean of the matrix (ignoring the missing values while computing the mean)."
   ]
  },
  {
   "cell_type": "code",
   "execution_count": 82,
   "id": "0e5909e2-dd7b-49f5-b3b5-21a8d15755c8",
   "metadata": {},
   "outputs": [],
   "source": [
    "mean_data_float = np.nanmean(data_float)"
   ]
  },
  {
   "cell_type": "code",
   "execution_count": 83,
   "id": "924738ac-8110-453e-ad72-b72ad401a449",
   "metadata": {},
   "outputs": [],
   "source": [
    "data_float[np.isnan(data_float)] = mean_data_float"
   ]
  },
  {
   "cell_type": "code",
   "execution_count": 84,
   "id": "195b0907-940e-468f-bb1d-67035f548564",
   "metadata": {},
   "outputs": [
    {
     "name": "stdout",
     "output_type": "stream",
     "text": [
      "[[36.  42.1 27.  24.  31. ]\n",
      " [13.  38.  48.  17.  42.1]\n",
      " [33.  42.1 41.  21.  97. ]\n",
      " [93.  62.  23.  42.1 85. ]\n",
      " [42.1  3.  85.  40.  25. ]]\n"
     ]
    }
   ],
   "source": [
    "print(data_float)"
   ]
  }
 ],
 "metadata": {
  "kernelspec": {
   "display_name": "Python 3 (ipykernel)",
   "language": "python",
   "name": "python3"
  },
  "language_info": {
   "codemirror_mode": {
    "name": "ipython",
    "version": 3
   },
   "file_extension": ".py",
   "mimetype": "text/x-python",
   "name": "python",
   "nbconvert_exporter": "python",
   "pygments_lexer": "ipython3",
   "version": "3.11.4"
  }
 },
 "nbformat": 4,
 "nbformat_minor": 5
}
