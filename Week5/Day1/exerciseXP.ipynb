{
 "cells": [
  {
   "cell_type": "markdown",
   "id": "a132c1f1-2b04-476a-b58d-cee056de06c6",
   "metadata": {},
   "source": [
    "# Exercise 1"
   ]
  },
  {
   "cell_type": "markdown",
   "id": "2652aee5-2653-4535-b46e-28aa4fab87b9",
   "metadata": {},
   "source": [
    "#### Import the numpy package under the name np."
   ]
  },
  {
   "cell_type": "code",
   "execution_count": 1,
   "id": "74384aac-c6c9-4741-a3b7-6a6398f30fb9",
   "metadata": {},
   "outputs": [],
   "source": [
    "import numpy as np"
   ]
  },
  {
   "cell_type": "markdown",
   "id": "6e0a2517-274d-4f72-8cf5-7ec7195268e8",
   "metadata": {},
   "source": [
    "#### Create a vector* of zeros with size 10 using np.zeros()."
   ]
  },
  {
   "cell_type": "code",
   "execution_count": 2,
   "id": "cbe82739-18f6-4651-bc90-2ae55f0dcfb2",
   "metadata": {},
   "outputs": [],
   "source": [
    "zero_arr = np.zeros(10)"
   ]
  },
  {
   "cell_type": "code",
   "execution_count": 3,
   "id": "36cf94a5-3b6f-4696-9ad4-aeb556646296",
   "metadata": {},
   "outputs": [
    {
     "name": "stdout",
     "output_type": "stream",
     "text": [
      "[0. 0. 0. 0. 0. 0. 0. 0. 0. 0.]\n"
     ]
    }
   ],
   "source": [
    "print(zero_arr)"
   ]
  },
  {
   "cell_type": "markdown",
   "id": "29ae1622-0356-4004-9530-bdcd59e93957",
   "metadata": {},
   "source": [
    "#### Compute the memory size* of any array. "
   ]
  },
  {
   "cell_type": "code",
   "execution_count": 4,
   "id": "ad619f2a-c177-430d-8273-d1fcea2b2a1f",
   "metadata": {},
   "outputs": [
    {
     "name": "stdout",
     "output_type": "stream",
     "text": [
      "80\n"
     ]
    }
   ],
   "source": [
    "print(zero_arr.itemsize * len(zero_arr))"
   ]
  },
  {
   "cell_type": "markdown",
   "id": "50619691-fda7-4f45-8317-529baed18955",
   "metadata": {},
   "source": [
    "#### Retrieve the documentation of the numpy add function from the command line."
   ]
  },
  {
   "cell_type": "code",
   "execution_count": 10,
   "id": "ebfc5d57-d572-41cc-ad4a-6a025f82978a",
   "metadata": {},
   "outputs": [
    {
     "name": "stdout",
     "output_type": "stream",
     "text": [
      "add(x1, x2, /, out=None, *, where=True, casting='same_kind', order='K', dtype=None, subok=True[, signature, extobj])\n",
      "\n",
      "Add arguments element-wise.\n",
      "\n",
      "Parameters\n",
      "----------\n",
      "x1, x2 : array_like\n",
      "    The arrays to be added.\n",
      "    If ``x1.shape != x2.shape``, they must be broadcastable to a common\n",
      "    shape (which becomes the shape of the output).\n",
      "out : ndarray, None, or tuple of ndarray and None, optional\n",
      "    A location into which the result is stored. If provided, it must have\n",
      "    a shape that the inputs broadcast to. If not provided or None,\n",
      "    a freshly-allocated array is returned. A tuple (possible only as a\n",
      "    keyword argument) must have length equal to the number of outputs.\n",
      "where : array_like, optional\n",
      "    This condition is broadcast over the input. At locations where the\n",
      "    condition is True, the `out` array will be set to the ufunc result.\n",
      "    Elsewhere, the `out` array will retain its original value.\n",
      "    Note that if an uninitialized `out` array is created via the default\n",
      "    ``out=None``, locations within it where the condition is False will\n",
      "    remain uninitialized.\n",
      "**kwargs\n",
      "    For other keyword-only arguments, see the\n",
      "    :ref:`ufunc docs <ufuncs.kwargs>`.\n",
      "\n",
      "Returns\n",
      "-------\n",
      "add : ndarray or scalar\n",
      "    The sum of `x1` and `x2`, element-wise.\n",
      "    This is a scalar if both `x1` and `x2` are scalars.\n",
      "\n",
      "Notes\n",
      "-----\n",
      "Equivalent to `x1` + `x2` in terms of array broadcasting.\n",
      "\n",
      "Examples\n",
      "--------\n",
      ">>> np.add(1.0, 4.0)\n",
      "5.0\n",
      ">>> x1 = np.arange(9.0).reshape((3, 3))\n",
      ">>> x2 = np.arange(3.0)\n",
      ">>> np.add(x1, x2)\n",
      "array([[  0.,   2.,   4.],\n",
      "       [  3.,   5.,   7.],\n",
      "       [  6.,   8.,  10.]])\n",
      "\n",
      "The ``+`` operator can be used as a shorthand for ``np.add`` on ndarrays.\n",
      "\n",
      ">>> x1 = np.arange(9.0).reshape((3, 3))\n",
      ">>> x2 = np.arange(3.0)\n",
      ">>> x1 + x2\n",
      "array([[ 0.,  2.,  4.],\n",
      "       [ 3.,  5.,  7.],\n",
      "       [ 6.,  8., 10.]])\n",
      "None\n"
     ]
    }
   ],
   "source": [
    "print(np.info(np.add))"
   ]
  },
  {
   "cell_type": "markdown",
   "id": "deb3f01e-5a27-4846-a453-6460513c5f03",
   "metadata": {},
   "source": [
    "#### Create a vector with values ranging from 10 to 49 using np.arange()."
   ]
  },
  {
   "cell_type": "code",
   "execution_count": 7,
   "id": "faa47c84-2a31-442e-84a7-4674fdb9c2c6",
   "metadata": {},
   "outputs": [
    {
     "name": "stdout",
     "output_type": "stream",
     "text": [
      "[10 11 12 13 14 15 16 17 18 19 20 21 22 23 24 25 26 27 28 29 30 31 32 33\n",
      " 34 35 36 37 38 39 40 41 42 43 44 45 46 47 48 49]\n"
     ]
    }
   ],
   "source": [
    "vector = np.arange(10,50)\n",
    "print(vector)"
   ]
  },
  {
   "cell_type": "markdown",
   "id": "33992d68-7f61-4491-bfdb-ae46ea66e019",
   "metadata": {},
   "source": [
    "#### Reverse a vector so the first element becomes last (Hint: Use slicing)."
   ]
  },
  {
   "cell_type": "code",
   "execution_count": 8,
   "id": "96350c4b-098e-4feb-9783-6a4ec649a1a3",
   "metadata": {},
   "outputs": [
    {
     "name": "stdout",
     "output_type": "stream",
     "text": [
      "[49 48 47 46 45 44 43 42 41 40 39 38 37 36 35 34 33 32 31 30 29 28 27 26\n",
      " 25 24 23 22 21 20 19 18 17 16 15 14 13 12 11 10]\n"
     ]
    }
   ],
   "source": [
    "print(vector[::-1])"
   ]
  },
  {
   "cell_type": "markdown",
   "id": "e2176f76-a6e1-4ecc-be41-1f288ea89ebe",
   "metadata": {},
   "source": [
    "#### Create a 3x3 matrix* with values ranging from 0 to 8 using np.reshape()."
   ]
  },
  {
   "cell_type": "code",
   "execution_count": 11,
   "id": "c4f91b94-dab8-4be2-9d14-780b52b17116",
   "metadata": {},
   "outputs": [
    {
     "name": "stdout",
     "output_type": "stream",
     "text": [
      "[[0 1 2]\n",
      " [3 4 5]\n",
      " [6 7 8]]\n"
     ]
    }
   ],
   "source": [
    "print(np.arange(9).reshape((3, 3)))"
   ]
  },
  {
   "cell_type": "markdown",
   "id": "befa6e45-a95c-4c14-ac86-0031c384aa06",
   "metadata": {},
   "source": [
    "#### Find indices of non-zero elements from [1,2,0,0,4,0] using np.nonzero()."
   ]
  },
  {
   "cell_type": "code",
   "execution_count": 12,
   "id": "65c7077b-3b4d-448e-b272-caaf2248688a",
   "metadata": {},
   "outputs": [
    {
     "name": "stdout",
     "output_type": "stream",
     "text": [
      "(array([0, 1, 4], dtype=int64),)\n"
     ]
    }
   ],
   "source": [
    "print(np.nonzero(np.array([1,2,0,0,4,0])))"
   ]
  },
  {
   "cell_type": "markdown",
   "id": "ef016c31-bd40-4ffd-b33a-f52d86e2f7a0",
   "metadata": {},
   "source": [
    "#### Create a 3x3 identity matrix* using np.eye()"
   ]
  },
  {
   "cell_type": "code",
   "execution_count": 14,
   "id": "5976a04b-42fa-4685-b935-c73f6db2dc5c",
   "metadata": {},
   "outputs": [
    {
     "name": "stdout",
     "output_type": "stream",
     "text": [
      "[[1. 0. 0.]\n",
      " [0. 1. 0.]\n",
      " [0. 0. 1.]]\n"
     ]
    }
   ],
   "source": [
    "print(np.eye(3))"
   ]
  },
  {
   "cell_type": "markdown",
   "id": "f49f2dca-856a-4983-9f63-adfa4459ac1f",
   "metadata": {},
   "source": [
    "#### Create a 5x5 matrix with row values ranging from 0 to 4. The output should be a matrix where each row is [0, 1, 2, 3, 4]."
   ]
  },
  {
   "cell_type": "code",
   "execution_count": 15,
   "id": "20e80573-99be-4fa9-a386-c569dcc33ced",
   "metadata": {},
   "outputs": [
    {
     "name": "stdout",
     "output_type": "stream",
     "text": [
      "[[0 1 2 3 4]\n",
      " [0 1 2 3 4]\n",
      " [0 1 2 3 4]\n",
      " [0 1 2 3 4]\n",
      " [0 1 2 3 4]]\n"
     ]
    }
   ],
   "source": [
    "print(np.tile(np.array([0,1,2,3,4]), (5,1)))"
   ]
  },
  {
   "cell_type": "markdown",
   "id": "d949deb0-d318-4ed4-90b4-02d18102b0a5",
   "metadata": {},
   "source": [
    "#### Create a vector of size 10 with values ranging from 0 to 1, both excluded."
   ]
  },
  {
   "cell_type": "code",
   "execution_count": 16,
   "id": "8a29f311-9ee9-46b1-9d1c-63ae0ec4078f",
   "metadata": {},
   "outputs": [
    {
     "name": "stdout",
     "output_type": "stream",
     "text": [
      "[0.09090909 0.18181818 0.27272727 0.36363636 0.45454545 0.54545455\n",
      " 0.63636364 0.72727273 0.81818182 0.90909091]\n"
     ]
    }
   ],
   "source": [
    "print(np.linspace(0, 1, 11, False)[1:])"
   ]
  },
  {
   "cell_type": "markdown",
   "id": "4bae6e76-9ae9-4c97-9ba3-7ef747ba6133",
   "metadata": {},
   "source": [
    "#### Create a random vector of size 10 and sort it."
   ]
  },
  {
   "cell_type": "code",
   "execution_count": 78,
   "id": "7396225a-b11b-4cdc-82c6-274691100a42",
   "metadata": {},
   "outputs": [
    {
     "name": "stdout",
     "output_type": "stream",
     "text": [
      "[[0.06124838 0.11372776 0.13016802 0.2116195  0.42319915 0.57292553\n",
      "  0.61962583 0.6932795  0.74488589 0.97624972]]\n"
     ]
    }
   ],
   "source": [
    "randvec = np.random.rand(1,10)\n",
    "print(np.sort(randvec))"
   ]
  },
  {
   "cell_type": "markdown",
   "id": "ad83e28c-72c9-4838-843a-1a36ef5fcaff",
   "metadata": {},
   "source": [
    "#### Print the minimum and maximum representable value for each numpy scalar type* (int8, int32, int64, float32, float64)."
   ]
  },
  {
   "cell_type": "code",
   "execution_count": 18,
   "id": "90068ef8-e883-4911-936d-1ab40a696eb7",
   "metadata": {},
   "outputs": [
    {
     "name": "stdout",
     "output_type": "stream",
     "text": [
      "min = -128 max = 127\n",
      "min = -2147483648 max = 2147483647\n",
      "min = -9223372036854775808 max = 9223372036854775807\n",
      "min = -3.4028234663852886e+38 max = 3.4028234663852886e+38\n",
      "min = -1.7976931348623157e+308 max = 1.7976931348623157e+308\n"
     ]
    }
   ],
   "source": [
    "ii8 = np.iinfo(np.int8)\n",
    "ii32 = np.iinfo(np.int32)\n",
    "ii64 = np.iinfo(np.int64)\n",
    "if32 = np.finfo(np.float32)\n",
    "if64 = np.finfo(np.float64)\n",
    "print(f\"min = {ii8.min} max = {ii8.max}\")\n",
    "print(f\"min = {ii32.min} max = {ii32.max}\")\n",
    "print(f\"min = {ii64.min} max = {ii64.max}\")\n",
    "print(f\"min = {if32.min} max = {if32.max}\")\n",
    "print(f\"min = {if64.min} max = {if64.max}\")"
   ]
  },
  {
   "cell_type": "markdown",
   "id": "4d809018-3027-4af1-b0ab-fbba9acdc1fd",
   "metadata": {},
   "source": [
    "#### How to convert a float (32 bits) array into an integer (32 bits) in place? Use np.ndarray.astype."
   ]
  },
  {
   "cell_type": "code",
   "execution_count": 22,
   "id": "d16524ce-a93a-4496-836f-4c204dfaeda3",
   "metadata": {},
   "outputs": [
    {
     "data": {
      "text/plain": [
       "array([1, 2, 2])"
      ]
     },
     "execution_count": 22,
     "metadata": {},
     "output_type": "execute_result"
    }
   ],
   "source": [
    "x = np.array([1, 2.321, 2.5])\n",
    "x.astype(ii32)"
   ]
  },
  {
   "cell_type": "markdown",
   "id": "8b3a3ab6-1119-488e-b3a1-e14e42af908a",
   "metadata": {},
   "source": [
    "#### Subtract the mean* of each row of a matrix. Use np.mean with axis=1."
   ]
  },
  {
   "cell_type": "code",
   "execution_count": 26,
   "id": "8e81c43c-935b-4a86-a754-f953460eb36c",
   "metadata": {},
   "outputs": [
    {
     "name": "stdout",
     "output_type": "stream",
     "text": [
      "[[0 1 2 3 4]\n",
      " [0 1 2 3 4]\n",
      " [0 1 2 3 4]\n",
      " [0 1 2 3 4]\n",
      " [0 1 2 3 4]]\n"
     ]
    }
   ],
   "source": [
    "matrix_dec = np.tile(np.array([0,1,2,3,4]), (5,1))\n",
    "print(matrix_dec)"
   ]
  },
  {
   "cell_type": "code",
   "execution_count": 25,
   "id": "011adf76-5f2e-4847-ae20-b3c20596613a",
   "metadata": {},
   "outputs": [
    {
     "name": "stdout",
     "output_type": "stream",
     "text": [
      "[[-2. -1.  0.  1.  2.]\n",
      " [-2. -1.  0.  1.  2.]\n",
      " [-2. -1.  0.  1.  2.]\n",
      " [-2. -1.  0.  1.  2.]\n",
      " [-2. -1.  0.  1.  2.]]\n"
     ]
    }
   ],
   "source": [
    "print(matrix_dec - np.mean(matrix_dec, 1))"
   ]
  },
  {
   "cell_type": "markdown",
   "id": "7e1ccd27-bbb8-4233-a5ee-a6c38f61e147",
   "metadata": {},
   "source": [
    "#### How to sort an array by the nth column? Use np.argsort."
   ]
  },
  {
   "cell_type": "code",
   "execution_count": 65,
   "id": "b76da4b7-c0d9-420e-a366-353fe3b54835",
   "metadata": {},
   "outputs": [],
   "source": [
    "vector = np.random.randint(10,size=15)"
   ]
  },
  {
   "cell_type": "code",
   "execution_count": 66,
   "id": "40d46cc2-3f3d-4a09-9ac5-f555f35febfd",
   "metadata": {},
   "outputs": [],
   "source": [
    "vector = vector.reshape(3,5)"
   ]
  },
  {
   "cell_type": "code",
   "execution_count": 67,
   "id": "399b90b2-3d76-41df-8c7e-cf5a3de8c5a2",
   "metadata": {},
   "outputs": [
    {
     "name": "stdout",
     "output_type": "stream",
     "text": [
      "[[2 3 4 3 6]\n",
      " [3 3 3 8 9]\n",
      " [7 5 4 3 0]]\n"
     ]
    }
   ],
   "source": [
    "sorted_matrix = vector[vector[:,1].argsort()]\n",
    "print(sorted_matrix)"
   ]
  },
  {
   "cell_type": "markdown",
   "id": "2fd082bb-4f74-4981-b7b7-2f7b4711b221",
   "metadata": {},
   "source": [
    "#### How to swap two rows of an array? You can do this using array indexing."
   ]
  },
  {
   "cell_type": "code",
   "execution_count": 68,
   "id": "39f880d4-4656-4dd5-b208-cfb66c6aa7d8",
   "metadata": {},
   "outputs": [
    {
     "name": "stdout",
     "output_type": "stream",
     "text": [
      "[[2 3 4 3 6]\n",
      " [7 5 4 3 0]\n",
      " [3 3 3 8 9]]\n"
     ]
    }
   ],
   "source": [
    "vector[[0,1]] = vector[[1,0]]\n",
    "print(vector)"
   ]
  },
  {
   "cell_type": "markdown",
   "id": "741efe63-87d3-4ba5-9bdf-0eccfe1139c6",
   "metadata": {},
   "source": [
    "#### Given an array C that is a bincount*, how to produce an array A such that np.bincount(A) == C? Use np.repeat."
   ]
  },
  {
   "cell_type": "code",
   "execution_count": 70,
   "id": "a51db95f-0c96-45e9-aa57-fd5737e97a8b",
   "metadata": {},
   "outputs": [],
   "source": [
    "binc = np.random.randint(10,size=15)"
   ]
  },
  {
   "cell_type": "code",
   "execution_count": 71,
   "id": "23a1389f-f999-4c3f-b962-a69e2ec8fa2f",
   "metadata": {},
   "outputs": [],
   "source": [
    "arrc = np.bincount(binc)"
   ]
  },
  {
   "cell_type": "code",
   "execution_count": 72,
   "id": "bf7900c2-2a84-48cb-88a0-70497436ad0c",
   "metadata": {},
   "outputs": [
    {
     "name": "stdout",
     "output_type": "stream",
     "text": [
      "[4 5 9 3 9 9 3 4 8 4 2 4 7 7 1]\n",
      "[0 1 1 2 4 1 0 2 1 3]\n"
     ]
    }
   ],
   "source": [
    "print(binc)\n",
    "print(arrc)"
   ]
  },
  {
   "cell_type": "code",
   "execution_count": 74,
   "id": "c285ad94-01c3-4575-bfe4-0f9feac3a19e",
   "metadata": {},
   "outputs": [
    {
     "name": "stdout",
     "output_type": "stream",
     "text": [
      "[1 2 3 3 4 4 4 4 5 7 7 8 9 9 9]\n"
     ]
    }
   ],
   "source": [
    "eq = np.repeat(np.arange(len(arrc)), arrc)\n",
    "\n",
    "print(eq)"
   ]
  },
  {
   "cell_type": "code",
   "execution_count": 79,
   "id": "71f4cdf8-a67e-48df-b977-4eaaabb8f1fb",
   "metadata": {},
   "outputs": [
    {
     "name": "stdout",
     "output_type": "stream",
     "text": [
      "True\n"
     ]
    }
   ],
   "source": [
    "print(np.array_equal(eq, np.sort(binc)))"
   ]
  }
 ],
 "metadata": {
  "kernelspec": {
   "display_name": "Python 3 (ipykernel)",
   "language": "python",
   "name": "python3"
  },
  "language_info": {
   "codemirror_mode": {
    "name": "ipython",
    "version": 3
   },
   "file_extension": ".py",
   "mimetype": "text/x-python",
   "name": "python",
   "nbconvert_exporter": "python",
   "pygments_lexer": "ipython3",
   "version": "3.11.4"
  }
 },
 "nbformat": 4,
 "nbformat_minor": 5
}
